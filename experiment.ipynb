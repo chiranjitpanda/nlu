{
 "cells": [
  {
   "cell_type": "code",
   "execution_count": 1,
   "id": "f0a984fc",
   "metadata": {},
   "outputs": [],
   "source": [
    "import pandas as pd\n",
    "import numpy as np\n",
    "import seaborn as sns\n",
    "import matplotlib.pyplot as plt\n"
   ]
  },
  {
   "cell_type": "code",
   "execution_count": 2,
   "id": "523e2815",
   "metadata": {},
   "outputs": [],
   "source": [
    "import os\n",
    "os.chdir(r'C:\\Users\\Chiranjit\\Desktop\\projects\\incident\\data\\raw')"
   ]
  },
  {
   "cell_type": "code",
   "execution_count": 3,
   "id": "05bc0285",
   "metadata": {},
   "outputs": [],
   "source": [
    "df = pd.read_csv('incident_event_log.csv')"
   ]
  },
  {
   "cell_type": "code",
   "execution_count": 4,
   "id": "7217f10f",
   "metadata": {},
   "outputs": [
    {
     "data": {
      "text/html": [
       "<div>\n",
       "<style scoped>\n",
       "    .dataframe tbody tr th:only-of-type {\n",
       "        vertical-align: middle;\n",
       "    }\n",
       "\n",
       "    .dataframe tbody tr th {\n",
       "        vertical-align: top;\n",
       "    }\n",
       "\n",
       "    .dataframe thead th {\n",
       "        text-align: right;\n",
       "    }\n",
       "</style>\n",
       "<table border=\"1\" class=\"dataframe\">\n",
       "  <thead>\n",
       "    <tr style=\"text-align: right;\">\n",
       "      <th></th>\n",
       "      <th>number</th>\n",
       "      <th>incident_state</th>\n",
       "      <th>active</th>\n",
       "      <th>reassignment_count</th>\n",
       "      <th>reopen_count</th>\n",
       "      <th>sys_mod_count</th>\n",
       "      <th>made_sla</th>\n",
       "      <th>caller_id</th>\n",
       "      <th>opened_by</th>\n",
       "      <th>opened_at</th>\n",
       "      <th>...</th>\n",
       "      <th>u_priority_confirmation</th>\n",
       "      <th>notify</th>\n",
       "      <th>problem_id</th>\n",
       "      <th>rfc</th>\n",
       "      <th>vendor</th>\n",
       "      <th>caused_by</th>\n",
       "      <th>closed_code</th>\n",
       "      <th>resolved_by</th>\n",
       "      <th>resolved_at</th>\n",
       "      <th>closed_at</th>\n",
       "    </tr>\n",
       "  </thead>\n",
       "  <tbody>\n",
       "    <tr>\n",
       "      <th>0</th>\n",
       "      <td>INC0000045</td>\n",
       "      <td>New</td>\n",
       "      <td>True</td>\n",
       "      <td>0</td>\n",
       "      <td>0</td>\n",
       "      <td>0</td>\n",
       "      <td>True</td>\n",
       "      <td>Caller 2403</td>\n",
       "      <td>Opened by  8</td>\n",
       "      <td>29/2/2016 01:16</td>\n",
       "      <td>...</td>\n",
       "      <td>False</td>\n",
       "      <td>Do Not Notify</td>\n",
       "      <td>?</td>\n",
       "      <td>?</td>\n",
       "      <td>?</td>\n",
       "      <td>?</td>\n",
       "      <td>code 5</td>\n",
       "      <td>Resolved by 149</td>\n",
       "      <td>29/2/2016 11:29</td>\n",
       "      <td>5/3/2016 12:00</td>\n",
       "    </tr>\n",
       "    <tr>\n",
       "      <th>1</th>\n",
       "      <td>INC0000045</td>\n",
       "      <td>Resolved</td>\n",
       "      <td>True</td>\n",
       "      <td>0</td>\n",
       "      <td>0</td>\n",
       "      <td>2</td>\n",
       "      <td>True</td>\n",
       "      <td>Caller 2403</td>\n",
       "      <td>Opened by  8</td>\n",
       "      <td>29/2/2016 01:16</td>\n",
       "      <td>...</td>\n",
       "      <td>False</td>\n",
       "      <td>Do Not Notify</td>\n",
       "      <td>?</td>\n",
       "      <td>?</td>\n",
       "      <td>?</td>\n",
       "      <td>?</td>\n",
       "      <td>code 5</td>\n",
       "      <td>Resolved by 149</td>\n",
       "      <td>29/2/2016 11:29</td>\n",
       "      <td>5/3/2016 12:00</td>\n",
       "    </tr>\n",
       "    <tr>\n",
       "      <th>2</th>\n",
       "      <td>INC0000045</td>\n",
       "      <td>Resolved</td>\n",
       "      <td>True</td>\n",
       "      <td>0</td>\n",
       "      <td>0</td>\n",
       "      <td>3</td>\n",
       "      <td>True</td>\n",
       "      <td>Caller 2403</td>\n",
       "      <td>Opened by  8</td>\n",
       "      <td>29/2/2016 01:16</td>\n",
       "      <td>...</td>\n",
       "      <td>False</td>\n",
       "      <td>Do Not Notify</td>\n",
       "      <td>?</td>\n",
       "      <td>?</td>\n",
       "      <td>?</td>\n",
       "      <td>?</td>\n",
       "      <td>code 5</td>\n",
       "      <td>Resolved by 149</td>\n",
       "      <td>29/2/2016 11:29</td>\n",
       "      <td>5/3/2016 12:00</td>\n",
       "    </tr>\n",
       "    <tr>\n",
       "      <th>3</th>\n",
       "      <td>INC0000045</td>\n",
       "      <td>Closed</td>\n",
       "      <td>False</td>\n",
       "      <td>0</td>\n",
       "      <td>0</td>\n",
       "      <td>4</td>\n",
       "      <td>True</td>\n",
       "      <td>Caller 2403</td>\n",
       "      <td>Opened by  8</td>\n",
       "      <td>29/2/2016 01:16</td>\n",
       "      <td>...</td>\n",
       "      <td>False</td>\n",
       "      <td>Do Not Notify</td>\n",
       "      <td>?</td>\n",
       "      <td>?</td>\n",
       "      <td>?</td>\n",
       "      <td>?</td>\n",
       "      <td>code 5</td>\n",
       "      <td>Resolved by 149</td>\n",
       "      <td>29/2/2016 11:29</td>\n",
       "      <td>5/3/2016 12:00</td>\n",
       "    </tr>\n",
       "    <tr>\n",
       "      <th>4</th>\n",
       "      <td>INC0000047</td>\n",
       "      <td>New</td>\n",
       "      <td>True</td>\n",
       "      <td>0</td>\n",
       "      <td>0</td>\n",
       "      <td>0</td>\n",
       "      <td>True</td>\n",
       "      <td>Caller 2403</td>\n",
       "      <td>Opened by  397</td>\n",
       "      <td>29/2/2016 04:40</td>\n",
       "      <td>...</td>\n",
       "      <td>False</td>\n",
       "      <td>Do Not Notify</td>\n",
       "      <td>?</td>\n",
       "      <td>?</td>\n",
       "      <td>?</td>\n",
       "      <td>?</td>\n",
       "      <td>code 5</td>\n",
       "      <td>Resolved by 81</td>\n",
       "      <td>1/3/2016 09:52</td>\n",
       "      <td>6/3/2016 10:00</td>\n",
       "    </tr>\n",
       "  </tbody>\n",
       "</table>\n",
       "<p>5 rows × 36 columns</p>\n",
       "</div>"
      ],
      "text/plain": [
       "       number incident_state  active  reassignment_count  reopen_count  \\\n",
       "0  INC0000045            New    True                   0             0   \n",
       "1  INC0000045       Resolved    True                   0             0   \n",
       "2  INC0000045       Resolved    True                   0             0   \n",
       "3  INC0000045         Closed   False                   0             0   \n",
       "4  INC0000047            New    True                   0             0   \n",
       "\n",
       "   sys_mod_count  made_sla    caller_id       opened_by        opened_at  ...  \\\n",
       "0              0      True  Caller 2403    Opened by  8  29/2/2016 01:16  ...   \n",
       "1              2      True  Caller 2403    Opened by  8  29/2/2016 01:16  ...   \n",
       "2              3      True  Caller 2403    Opened by  8  29/2/2016 01:16  ...   \n",
       "3              4      True  Caller 2403    Opened by  8  29/2/2016 01:16  ...   \n",
       "4              0      True  Caller 2403  Opened by  397  29/2/2016 04:40  ...   \n",
       "\n",
       "  u_priority_confirmation         notify problem_id rfc vendor caused_by  \\\n",
       "0                   False  Do Not Notify          ?   ?      ?         ?   \n",
       "1                   False  Do Not Notify          ?   ?      ?         ?   \n",
       "2                   False  Do Not Notify          ?   ?      ?         ?   \n",
       "3                   False  Do Not Notify          ?   ?      ?         ?   \n",
       "4                   False  Do Not Notify          ?   ?      ?         ?   \n",
       "\n",
       "  closed_code      resolved_by      resolved_at       closed_at  \n",
       "0      code 5  Resolved by 149  29/2/2016 11:29  5/3/2016 12:00  \n",
       "1      code 5  Resolved by 149  29/2/2016 11:29  5/3/2016 12:00  \n",
       "2      code 5  Resolved by 149  29/2/2016 11:29  5/3/2016 12:00  \n",
       "3      code 5  Resolved by 149  29/2/2016 11:29  5/3/2016 12:00  \n",
       "4      code 5   Resolved by 81   1/3/2016 09:52  6/3/2016 10:00  \n",
       "\n",
       "[5 rows x 36 columns]"
      ]
     },
     "execution_count": 4,
     "metadata": {},
     "output_type": "execute_result"
    }
   ],
   "source": [
    "df.head()"
   ]
  },
  {
   "cell_type": "code",
   "execution_count": 5,
   "id": "13020648",
   "metadata": {},
   "outputs": [],
   "source": [
    "df = df.loc[df['incident_state']=='New']\n",
    "df = df.loc[df['sys_mod_count']==0]"
   ]
  },
  {
   "cell_type": "code",
   "execution_count": 6,
   "id": "a1e2a632",
   "metadata": {},
   "outputs": [
    {
     "data": {
      "text/plain": [
       "(16393, 36)"
      ]
     },
     "execution_count": 6,
     "metadata": {},
     "output_type": "execute_result"
    }
   ],
   "source": [
    "df.shape"
   ]
  },
  {
   "cell_type": "code",
   "execution_count": 7,
   "id": "54e0539b",
   "metadata": {},
   "outputs": [
    {
     "data": {
      "text/plain": [
       "number                     0\n",
       "incident_state             0\n",
       "active                     0\n",
       "reassignment_count         0\n",
       "reopen_count               0\n",
       "sys_mod_count              0\n",
       "made_sla                   0\n",
       "caller_id                  0\n",
       "opened_by                  0\n",
       "opened_at                  0\n",
       "sys_created_by             0\n",
       "sys_created_at             0\n",
       "sys_updated_by             0\n",
       "sys_updated_at             0\n",
       "contact_type               0\n",
       "location                   0\n",
       "category                   0\n",
       "subcategory                0\n",
       "u_symptom                  0\n",
       "cmdb_ci                    0\n",
       "impact                     0\n",
       "urgency                    0\n",
       "priority                   0\n",
       "assignment_group           0\n",
       "assigned_to                0\n",
       "knowledge                  0\n",
       "u_priority_confirmation    0\n",
       "notify                     0\n",
       "problem_id                 0\n",
       "rfc                        0\n",
       "vendor                     0\n",
       "caused_by                  0\n",
       "closed_code                0\n",
       "resolved_by                0\n",
       "resolved_at                0\n",
       "closed_at                  0\n",
       "dtype: int64"
      ]
     },
     "execution_count": 7,
     "metadata": {},
     "output_type": "execute_result"
    }
   ],
   "source": [
    "df.isnull().sum()"
   ]
  },
  {
   "cell_type": "code",
   "execution_count": 8,
   "id": "fa39461d",
   "metadata": {},
   "outputs": [
    {
     "data": {
      "text/html": [
       "<div>\n",
       "<style scoped>\n",
       "    .dataframe tbody tr th:only-of-type {\n",
       "        vertical-align: middle;\n",
       "    }\n",
       "\n",
       "    .dataframe tbody tr th {\n",
       "        vertical-align: top;\n",
       "    }\n",
       "\n",
       "    .dataframe thead th {\n",
       "        text-align: right;\n",
       "    }\n",
       "</style>\n",
       "<table border=\"1\" class=\"dataframe\">\n",
       "  <thead>\n",
       "    <tr style=\"text-align: right;\">\n",
       "      <th></th>\n",
       "      <th>number</th>\n",
       "      <th>incident_state</th>\n",
       "      <th>active</th>\n",
       "      <th>reassignment_count</th>\n",
       "      <th>reopen_count</th>\n",
       "      <th>sys_mod_count</th>\n",
       "      <th>made_sla</th>\n",
       "      <th>caller_id</th>\n",
       "      <th>opened_by</th>\n",
       "      <th>opened_at</th>\n",
       "      <th>...</th>\n",
       "      <th>u_priority_confirmation</th>\n",
       "      <th>notify</th>\n",
       "      <th>problem_id</th>\n",
       "      <th>rfc</th>\n",
       "      <th>vendor</th>\n",
       "      <th>caused_by</th>\n",
       "      <th>closed_code</th>\n",
       "      <th>resolved_by</th>\n",
       "      <th>resolved_at</th>\n",
       "      <th>closed_at</th>\n",
       "    </tr>\n",
       "  </thead>\n",
       "  <tbody>\n",
       "    <tr>\n",
       "      <th>0</th>\n",
       "      <td>INC0000045</td>\n",
       "      <td>New</td>\n",
       "      <td>True</td>\n",
       "      <td>0</td>\n",
       "      <td>0</td>\n",
       "      <td>0</td>\n",
       "      <td>True</td>\n",
       "      <td>Caller 2403</td>\n",
       "      <td>Opened by  8</td>\n",
       "      <td>29/2/2016 01:16</td>\n",
       "      <td>...</td>\n",
       "      <td>False</td>\n",
       "      <td>Do Not Notify</td>\n",
       "      <td>?</td>\n",
       "      <td>?</td>\n",
       "      <td>?</td>\n",
       "      <td>?</td>\n",
       "      <td>code 5</td>\n",
       "      <td>Resolved by 149</td>\n",
       "      <td>29/2/2016 11:29</td>\n",
       "      <td>5/3/2016 12:00</td>\n",
       "    </tr>\n",
       "    <tr>\n",
       "      <th>4</th>\n",
       "      <td>INC0000047</td>\n",
       "      <td>New</td>\n",
       "      <td>True</td>\n",
       "      <td>0</td>\n",
       "      <td>0</td>\n",
       "      <td>0</td>\n",
       "      <td>True</td>\n",
       "      <td>Caller 2403</td>\n",
       "      <td>Opened by  397</td>\n",
       "      <td>29/2/2016 04:40</td>\n",
       "      <td>...</td>\n",
       "      <td>False</td>\n",
       "      <td>Do Not Notify</td>\n",
       "      <td>?</td>\n",
       "      <td>?</td>\n",
       "      <td>?</td>\n",
       "      <td>?</td>\n",
       "      <td>code 5</td>\n",
       "      <td>Resolved by 81</td>\n",
       "      <td>1/3/2016 09:52</td>\n",
       "      <td>6/3/2016 10:00</td>\n",
       "    </tr>\n",
       "    <tr>\n",
       "      <th>13</th>\n",
       "      <td>INC0000057</td>\n",
       "      <td>New</td>\n",
       "      <td>True</td>\n",
       "      <td>0</td>\n",
       "      <td>0</td>\n",
       "      <td>0</td>\n",
       "      <td>True</td>\n",
       "      <td>Caller 4416</td>\n",
       "      <td>Opened by  8</td>\n",
       "      <td>29/2/2016 06:10</td>\n",
       "      <td>...</td>\n",
       "      <td>False</td>\n",
       "      <td>Do Not Notify</td>\n",
       "      <td>?</td>\n",
       "      <td>?</td>\n",
       "      <td>?</td>\n",
       "      <td>?</td>\n",
       "      <td>code 10</td>\n",
       "      <td>Resolved by 5</td>\n",
       "      <td>1/3/2016 02:55</td>\n",
       "      <td>6/3/2016 03:00</td>\n",
       "    </tr>\n",
       "    <tr>\n",
       "      <th>20</th>\n",
       "      <td>INC0000060</td>\n",
       "      <td>New</td>\n",
       "      <td>True</td>\n",
       "      <td>0</td>\n",
       "      <td>0</td>\n",
       "      <td>0</td>\n",
       "      <td>True</td>\n",
       "      <td>Caller 4491</td>\n",
       "      <td>Opened by  180</td>\n",
       "      <td>29/2/2016 06:38</td>\n",
       "      <td>...</td>\n",
       "      <td>False</td>\n",
       "      <td>Do Not Notify</td>\n",
       "      <td>?</td>\n",
       "      <td>?</td>\n",
       "      <td>?</td>\n",
       "      <td>?</td>\n",
       "      <td>code 3</td>\n",
       "      <td>Resolved by 113</td>\n",
       "      <td>2/3/2016 12:06</td>\n",
       "      <td>7/3/2016 13:00</td>\n",
       "    </tr>\n",
       "    <tr>\n",
       "      <th>24</th>\n",
       "      <td>INC0000062</td>\n",
       "      <td>New</td>\n",
       "      <td>True</td>\n",
       "      <td>0</td>\n",
       "      <td>0</td>\n",
       "      <td>0</td>\n",
       "      <td>True</td>\n",
       "      <td>Caller 3765</td>\n",
       "      <td>Opened by  180</td>\n",
       "      <td>29/2/2016 06:58</td>\n",
       "      <td>...</td>\n",
       "      <td>False</td>\n",
       "      <td>Do Not Notify</td>\n",
       "      <td>?</td>\n",
       "      <td>?</td>\n",
       "      <td>?</td>\n",
       "      <td>?</td>\n",
       "      <td>code 7</td>\n",
       "      <td>Resolved by 62</td>\n",
       "      <td>29/2/2016 15:51</td>\n",
       "      <td>5/3/2016 16:00</td>\n",
       "    </tr>\n",
       "  </tbody>\n",
       "</table>\n",
       "<p>5 rows × 36 columns</p>\n",
       "</div>"
      ],
      "text/plain": [
       "        number incident_state  active  reassignment_count  reopen_count  \\\n",
       "0   INC0000045            New    True                   0             0   \n",
       "4   INC0000047            New    True                   0             0   \n",
       "13  INC0000057            New    True                   0             0   \n",
       "20  INC0000060            New    True                   0             0   \n",
       "24  INC0000062            New    True                   0             0   \n",
       "\n",
       "    sys_mod_count  made_sla    caller_id       opened_by        opened_at  \\\n",
       "0               0      True  Caller 2403    Opened by  8  29/2/2016 01:16   \n",
       "4               0      True  Caller 2403  Opened by  397  29/2/2016 04:40   \n",
       "13              0      True  Caller 4416    Opened by  8  29/2/2016 06:10   \n",
       "20              0      True  Caller 4491  Opened by  180  29/2/2016 06:38   \n",
       "24              0      True  Caller 3765  Opened by  180  29/2/2016 06:58   \n",
       "\n",
       "    ... u_priority_confirmation         notify problem_id rfc vendor  \\\n",
       "0   ...                   False  Do Not Notify          ?   ?      ?   \n",
       "4   ...                   False  Do Not Notify          ?   ?      ?   \n",
       "13  ...                   False  Do Not Notify          ?   ?      ?   \n",
       "20  ...                   False  Do Not Notify          ?   ?      ?   \n",
       "24  ...                   False  Do Not Notify          ?   ?      ?   \n",
       "\n",
       "   caused_by closed_code      resolved_by      resolved_at       closed_at  \n",
       "0          ?      code 5  Resolved by 149  29/2/2016 11:29  5/3/2016 12:00  \n",
       "4          ?      code 5   Resolved by 81   1/3/2016 09:52  6/3/2016 10:00  \n",
       "13         ?     code 10    Resolved by 5   1/3/2016 02:55  6/3/2016 03:00  \n",
       "20         ?      code 3  Resolved by 113   2/3/2016 12:06  7/3/2016 13:00  \n",
       "24         ?      code 7   Resolved by 62  29/2/2016 15:51  5/3/2016 16:00  \n",
       "\n",
       "[5 rows x 36 columns]"
      ]
     },
     "execution_count": 8,
     "metadata": {},
     "output_type": "execute_result"
    }
   ],
   "source": [
    "df.head()"
   ]
  },
  {
   "cell_type": "code",
   "execution_count": 9,
   "id": "a4769c4a",
   "metadata": {},
   "outputs": [
    {
     "data": {
      "text/plain": [
       "0.9904227414140182"
      ]
     },
     "execution_count": 9,
     "metadata": {},
     "output_type": "execute_result"
    }
   ],
   "source": [
    "df['problem_id'].value_counts(normalize=True)['?']"
   ]
  },
  {
   "cell_type": "code",
   "execution_count": 10,
   "id": "6a267a3d",
   "metadata": {},
   "outputs": [
    {
     "data": {
      "text/plain": [
       "0.9967059110595986"
      ]
     },
     "execution_count": 10,
     "metadata": {},
     "output_type": "execute_result"
    }
   ],
   "source": [
    "df['rfc'].value_counts(normalize=True)['?']"
   ]
  },
  {
   "cell_type": "code",
   "execution_count": 11,
   "id": "80f606ef",
   "metadata": {},
   "outputs": [
    {
     "data": {
      "text/plain": [
       "0.9992069785884219"
      ]
     },
     "execution_count": 11,
     "metadata": {},
     "output_type": "execute_result"
    }
   ],
   "source": [
    "df['vendor'].value_counts(normalize=True)['?']"
   ]
  },
  {
   "cell_type": "code",
   "execution_count": 12,
   "id": "1c0a2bb6",
   "metadata": {},
   "outputs": [
    {
     "data": {
      "text/plain": [
       "0.999877996705911"
      ]
     },
     "execution_count": 12,
     "metadata": {},
     "output_type": "execute_result"
    }
   ],
   "source": [
    "df['caused_by'].value_counts(normalize=True)['?']"
   ]
  },
  {
   "cell_type": "code",
   "execution_count": 13,
   "id": "023f2670",
   "metadata": {},
   "outputs": [],
   "source": [
    "df = df.drop(['problem_id','rfc','vendor','caused_by'],axis=1)"
   ]
  },
  {
   "cell_type": "code",
   "execution_count": 14,
   "id": "3efb7f5c",
   "metadata": {},
   "outputs": [],
   "source": [
    "# replace ? by Unkown\n",
    "df=df.replace(['?'],np.nan)"
   ]
  },
  {
   "cell_type": "code",
   "execution_count": 15,
   "id": "330627c4",
   "metadata": {},
   "outputs": [
    {
     "data": {
      "text/plain": [
       "(16393, 32)"
      ]
     },
     "execution_count": 15,
     "metadata": {},
     "output_type": "execute_result"
    }
   ],
   "source": [
    "df.shape"
   ]
  },
  {
   "cell_type": "markdown",
   "id": "eb587a89",
   "metadata": {},
   "source": [
    "### Creating a Dependent variable"
   ]
  },
  {
   "cell_type": "code",
   "execution_count": 16,
   "id": "51c23898",
   "metadata": {},
   "outputs": [],
   "source": [
    "df['closed_at'] = pd.to_datetime(df['closed_at'])\n",
    "df['opened_at'] = pd.to_datetime(df['opened_at'])\n",
    "   "
   ]
  },
  {
   "cell_type": "code",
   "execution_count": 17,
   "id": "f158c994",
   "metadata": {},
   "outputs": [],
   "source": [
    "df['Days_to_close']=np.abs(np.array((df['closed_at']-df['opened_at']).dt.days))"
   ]
  },
  {
   "cell_type": "code",
   "execution_count": 18,
   "id": "fce71f74",
   "metadata": {},
   "outputs": [],
   "source": [
    "##df['Days_to_close']=df['Days_to_close']/np.timedelta64(1,'D')"
   ]
  },
  {
   "cell_type": "code",
   "execution_count": null,
   "id": "c04cbedf",
   "metadata": {},
   "outputs": [],
   "source": []
  },
  {
   "cell_type": "code",
   "execution_count": null,
   "id": "83550168",
   "metadata": {},
   "outputs": [],
   "source": []
  },
  {
   "cell_type": "code",
   "execution_count": null,
   "id": "103a9788",
   "metadata": {},
   "outputs": [],
   "source": []
  },
  {
   "cell_type": "code",
   "execution_count": null,
   "id": "96547606",
   "metadata": {},
   "outputs": [],
   "source": []
  },
  {
   "cell_type": "code",
   "execution_count": null,
   "id": "753dae7f",
   "metadata": {},
   "outputs": [],
   "source": []
  },
  {
   "cell_type": "code",
   "execution_count": 19,
   "id": "2c0564a3",
   "metadata": {},
   "outputs": [],
   "source": [
    "cols=['caller_id']\n",
    "df=df.apply(lambda col:col.str.replace('Caller ','') if col.name in cols else col)"
   ]
  },
  {
   "cell_type": "code",
   "execution_count": 20,
   "id": "6a8068b3",
   "metadata": {},
   "outputs": [],
   "source": [
    "cols=['sys_updated_by']\n",
    "df=df.apply(lambda col:col.str.replace('Updated by ','') if col.name in cols else col)"
   ]
  },
  {
   "cell_type": "code",
   "execution_count": 21,
   "id": "f05c2676",
   "metadata": {},
   "outputs": [],
   "source": [
    "cols=['location']\n",
    "df=df.apply(lambda col:col.str.replace('Location ','') if col.name in cols else col)"
   ]
  },
  {
   "cell_type": "code",
   "execution_count": 22,
   "id": "ebf79eae",
   "metadata": {},
   "outputs": [],
   "source": [
    "cols=['category']\n",
    "df=df.apply(lambda col:col.str.replace('Category ','') if col.name in cols else col)"
   ]
  },
  {
   "cell_type": "code",
   "execution_count": 23,
   "id": "667cc0cb",
   "metadata": {},
   "outputs": [],
   "source": [
    "cols=['subcategory']\n",
    "df=df.apply(lambda col:col.str.replace('Subcategory ','') if col.name in cols else col)"
   ]
  },
  {
   "cell_type": "code",
   "execution_count": 24,
   "id": "35744670",
   "metadata": {},
   "outputs": [],
   "source": [
    "cols=['opened_by']\n",
    "df=df.apply(lambda col:col.str.replace('Opened by ','') if col.name in cols else col)"
   ]
  },
  {
   "cell_type": "code",
   "execution_count": 25,
   "id": "fc1678e5",
   "metadata": {},
   "outputs": [],
   "source": [
    "cols=['sys_created_by']\n",
    "df=df.apply(lambda col:col.str.replace('Created by ','') if col.name in cols else col)"
   ]
  },
  {
   "cell_type": "code",
   "execution_count": 26,
   "id": "6135b543",
   "metadata": {},
   "outputs": [],
   "source": [
    "cols=['assignment_group']\n",
    "df=df.apply(lambda col:col.str.replace('Group ','') if col.name in cols else col)"
   ]
  },
  {
   "cell_type": "code",
   "execution_count": 27,
   "id": "f7549f04",
   "metadata": {},
   "outputs": [],
   "source": [
    "cols=['u_symptom']\n",
    "df=df.apply(lambda col:col.str.replace('Symptom ','') if col.name in cols else col)"
   ]
  },
  {
   "cell_type": "code",
   "execution_count": 28,
   "id": "7c08d6a1",
   "metadata": {},
   "outputs": [
    {
     "data": {
      "text/html": [
       "<div>\n",
       "<style scoped>\n",
       "    .dataframe tbody tr th:only-of-type {\n",
       "        vertical-align: middle;\n",
       "    }\n",
       "\n",
       "    .dataframe tbody tr th {\n",
       "        vertical-align: top;\n",
       "    }\n",
       "\n",
       "    .dataframe thead th {\n",
       "        text-align: right;\n",
       "    }\n",
       "</style>\n",
       "<table border=\"1\" class=\"dataframe\">\n",
       "  <thead>\n",
       "    <tr style=\"text-align: right;\">\n",
       "      <th></th>\n",
       "      <th>number</th>\n",
       "      <th>incident_state</th>\n",
       "      <th>active</th>\n",
       "      <th>reassignment_count</th>\n",
       "      <th>reopen_count</th>\n",
       "      <th>sys_mod_count</th>\n",
       "      <th>made_sla</th>\n",
       "      <th>caller_id</th>\n",
       "      <th>opened_by</th>\n",
       "      <th>opened_at</th>\n",
       "      <th>...</th>\n",
       "      <th>assignment_group</th>\n",
       "      <th>assigned_to</th>\n",
       "      <th>knowledge</th>\n",
       "      <th>u_priority_confirmation</th>\n",
       "      <th>notify</th>\n",
       "      <th>closed_code</th>\n",
       "      <th>resolved_by</th>\n",
       "      <th>resolved_at</th>\n",
       "      <th>closed_at</th>\n",
       "      <th>Days_to_close</th>\n",
       "    </tr>\n",
       "  </thead>\n",
       "  <tbody>\n",
       "    <tr>\n",
       "      <th>0</th>\n",
       "      <td>INC0000045</td>\n",
       "      <td>New</td>\n",
       "      <td>True</td>\n",
       "      <td>0</td>\n",
       "      <td>0</td>\n",
       "      <td>0</td>\n",
       "      <td>True</td>\n",
       "      <td>2403</td>\n",
       "      <td>8</td>\n",
       "      <td>2016-02-29 01:16:00</td>\n",
       "      <td>...</td>\n",
       "      <td>56</td>\n",
       "      <td>NaN</td>\n",
       "      <td>True</td>\n",
       "      <td>False</td>\n",
       "      <td>Do Not Notify</td>\n",
       "      <td>code 5</td>\n",
       "      <td>Resolved by 149</td>\n",
       "      <td>29/2/2016 11:29</td>\n",
       "      <td>2016-05-03 12:00:00</td>\n",
       "      <td>64</td>\n",
       "    </tr>\n",
       "    <tr>\n",
       "      <th>4</th>\n",
       "      <td>INC0000047</td>\n",
       "      <td>New</td>\n",
       "      <td>True</td>\n",
       "      <td>0</td>\n",
       "      <td>0</td>\n",
       "      <td>0</td>\n",
       "      <td>True</td>\n",
       "      <td>2403</td>\n",
       "      <td>397</td>\n",
       "      <td>2016-02-29 04:40:00</td>\n",
       "      <td>...</td>\n",
       "      <td>70</td>\n",
       "      <td>Resolver 89</td>\n",
       "      <td>True</td>\n",
       "      <td>False</td>\n",
       "      <td>Do Not Notify</td>\n",
       "      <td>code 5</td>\n",
       "      <td>Resolved by 81</td>\n",
       "      <td>1/3/2016 09:52</td>\n",
       "      <td>2016-06-03 10:00:00</td>\n",
       "      <td>95</td>\n",
       "    </tr>\n",
       "    <tr>\n",
       "      <th>13</th>\n",
       "      <td>INC0000057</td>\n",
       "      <td>New</td>\n",
       "      <td>True</td>\n",
       "      <td>0</td>\n",
       "      <td>0</td>\n",
       "      <td>0</td>\n",
       "      <td>True</td>\n",
       "      <td>4416</td>\n",
       "      <td>8</td>\n",
       "      <td>2016-02-29 06:10:00</td>\n",
       "      <td>...</td>\n",
       "      <td>70</td>\n",
       "      <td>NaN</td>\n",
       "      <td>True</td>\n",
       "      <td>False</td>\n",
       "      <td>Do Not Notify</td>\n",
       "      <td>code 10</td>\n",
       "      <td>Resolved by 5</td>\n",
       "      <td>1/3/2016 02:55</td>\n",
       "      <td>2016-06-03 03:00:00</td>\n",
       "      <td>94</td>\n",
       "    </tr>\n",
       "    <tr>\n",
       "      <th>20</th>\n",
       "      <td>INC0000060</td>\n",
       "      <td>New</td>\n",
       "      <td>True</td>\n",
       "      <td>0</td>\n",
       "      <td>0</td>\n",
       "      <td>0</td>\n",
       "      <td>True</td>\n",
       "      <td>4491</td>\n",
       "      <td>180</td>\n",
       "      <td>2016-02-29 06:38:00</td>\n",
       "      <td>...</td>\n",
       "      <td>25</td>\n",
       "      <td>Resolver 125</td>\n",
       "      <td>True</td>\n",
       "      <td>False</td>\n",
       "      <td>Do Not Notify</td>\n",
       "      <td>code 3</td>\n",
       "      <td>Resolved by 113</td>\n",
       "      <td>2/3/2016 12:06</td>\n",
       "      <td>2016-07-03 13:00:00</td>\n",
       "      <td>125</td>\n",
       "    </tr>\n",
       "    <tr>\n",
       "      <th>24</th>\n",
       "      <td>INC0000062</td>\n",
       "      <td>New</td>\n",
       "      <td>True</td>\n",
       "      <td>0</td>\n",
       "      <td>0</td>\n",
       "      <td>0</td>\n",
       "      <td>True</td>\n",
       "      <td>3765</td>\n",
       "      <td>180</td>\n",
       "      <td>2016-02-29 06:58:00</td>\n",
       "      <td>...</td>\n",
       "      <td>70</td>\n",
       "      <td>NaN</td>\n",
       "      <td>True</td>\n",
       "      <td>False</td>\n",
       "      <td>Do Not Notify</td>\n",
       "      <td>code 7</td>\n",
       "      <td>Resolved by 62</td>\n",
       "      <td>29/2/2016 15:51</td>\n",
       "      <td>2016-05-03 16:00:00</td>\n",
       "      <td>64</td>\n",
       "    </tr>\n",
       "  </tbody>\n",
       "</table>\n",
       "<p>5 rows × 33 columns</p>\n",
       "</div>"
      ],
      "text/plain": [
       "        number incident_state  active  reassignment_count  reopen_count  \\\n",
       "0   INC0000045            New    True                   0             0   \n",
       "4   INC0000047            New    True                   0             0   \n",
       "13  INC0000057            New    True                   0             0   \n",
       "20  INC0000060            New    True                   0             0   \n",
       "24  INC0000062            New    True                   0             0   \n",
       "\n",
       "    sys_mod_count  made_sla caller_id opened_by           opened_at  ...  \\\n",
       "0               0      True      2403         8 2016-02-29 01:16:00  ...   \n",
       "4               0      True      2403       397 2016-02-29 04:40:00  ...   \n",
       "13              0      True      4416         8 2016-02-29 06:10:00  ...   \n",
       "20              0      True      4491       180 2016-02-29 06:38:00  ...   \n",
       "24              0      True      3765       180 2016-02-29 06:58:00  ...   \n",
       "\n",
       "   assignment_group   assigned_to knowledge u_priority_confirmation  \\\n",
       "0                56           NaN      True                   False   \n",
       "4                70   Resolver 89      True                   False   \n",
       "13               70           NaN      True                   False   \n",
       "20               25  Resolver 125      True                   False   \n",
       "24               70           NaN      True                   False   \n",
       "\n",
       "           notify closed_code      resolved_by      resolved_at  \\\n",
       "0   Do Not Notify      code 5  Resolved by 149  29/2/2016 11:29   \n",
       "4   Do Not Notify      code 5   Resolved by 81   1/3/2016 09:52   \n",
       "13  Do Not Notify     code 10    Resolved by 5   1/3/2016 02:55   \n",
       "20  Do Not Notify      code 3  Resolved by 113   2/3/2016 12:06   \n",
       "24  Do Not Notify      code 7   Resolved by 62  29/2/2016 15:51   \n",
       "\n",
       "             closed_at Days_to_close  \n",
       "0  2016-05-03 12:00:00            64  \n",
       "4  2016-06-03 10:00:00            95  \n",
       "13 2016-06-03 03:00:00            94  \n",
       "20 2016-07-03 13:00:00           125  \n",
       "24 2016-05-03 16:00:00            64  \n",
       "\n",
       "[5 rows x 33 columns]"
      ]
     },
     "execution_count": 28,
     "metadata": {},
     "output_type": "execute_result"
    }
   ],
   "source": [
    "df.head()"
   ]
  },
  {
   "cell_type": "code",
   "execution_count": 29,
   "id": "a94e174c",
   "metadata": {},
   "outputs": [],
   "source": [
    "df.fillna(0,inplace=True)"
   ]
  },
  {
   "cell_type": "code",
   "execution_count": 30,
   "id": "b63b06ca",
   "metadata": {},
   "outputs": [],
   "source": [
    "##remove additional columns\n",
    "df = df.drop(['number','resolved_by','resolved_at','closed_at','closed_code','sys_updated_by', 'sys_updated_at','opened_at','cmdb_ci','assigned_to','sys_created_at','u_priority_confirmation','reopen_count','reassignment_count','sys_mod_count','incident_state','active','made_sla'],axis=1)"
   ]
  },
  {
   "cell_type": "code",
   "execution_count": 31,
   "id": "5b88710e",
   "metadata": {},
   "outputs": [
    {
     "data": {
      "text/plain": [
       "(16393, 15)"
      ]
     },
     "execution_count": 31,
     "metadata": {},
     "output_type": "execute_result"
    }
   ],
   "source": [
    "df.shape"
   ]
  },
  {
   "cell_type": "code",
   "execution_count": 32,
   "id": "4567787a",
   "metadata": {},
   "outputs": [
    {
     "data": {
      "text/html": [
       "<div>\n",
       "<style scoped>\n",
       "    .dataframe tbody tr th:only-of-type {\n",
       "        vertical-align: middle;\n",
       "    }\n",
       "\n",
       "    .dataframe tbody tr th {\n",
       "        vertical-align: top;\n",
       "    }\n",
       "\n",
       "    .dataframe thead th {\n",
       "        text-align: right;\n",
       "    }\n",
       "</style>\n",
       "<table border=\"1\" class=\"dataframe\">\n",
       "  <thead>\n",
       "    <tr style=\"text-align: right;\">\n",
       "      <th></th>\n",
       "      <th>caller_id</th>\n",
       "      <th>opened_by</th>\n",
       "      <th>sys_created_by</th>\n",
       "      <th>contact_type</th>\n",
       "      <th>location</th>\n",
       "      <th>category</th>\n",
       "      <th>subcategory</th>\n",
       "      <th>u_symptom</th>\n",
       "      <th>impact</th>\n",
       "      <th>urgency</th>\n",
       "      <th>priority</th>\n",
       "      <th>assignment_group</th>\n",
       "      <th>knowledge</th>\n",
       "      <th>notify</th>\n",
       "      <th>Days_to_close</th>\n",
       "    </tr>\n",
       "  </thead>\n",
       "  <tbody>\n",
       "    <tr>\n",
       "      <th>0</th>\n",
       "      <td>2403</td>\n",
       "      <td>8</td>\n",
       "      <td>6</td>\n",
       "      <td>Phone</td>\n",
       "      <td>143</td>\n",
       "      <td>55</td>\n",
       "      <td>170</td>\n",
       "      <td>72</td>\n",
       "      <td>2 - Medium</td>\n",
       "      <td>2 - Medium</td>\n",
       "      <td>3 - Moderate</td>\n",
       "      <td>56</td>\n",
       "      <td>True</td>\n",
       "      <td>Do Not Notify</td>\n",
       "      <td>64</td>\n",
       "    </tr>\n",
       "    <tr>\n",
       "      <th>4</th>\n",
       "      <td>2403</td>\n",
       "      <td>397</td>\n",
       "      <td>171</td>\n",
       "      <td>Phone</td>\n",
       "      <td>165</td>\n",
       "      <td>40</td>\n",
       "      <td>215</td>\n",
       "      <td>471</td>\n",
       "      <td>2 - Medium</td>\n",
       "      <td>2 - Medium</td>\n",
       "      <td>3 - Moderate</td>\n",
       "      <td>70</td>\n",
       "      <td>True</td>\n",
       "      <td>Do Not Notify</td>\n",
       "      <td>95</td>\n",
       "    </tr>\n",
       "    <tr>\n",
       "      <th>13</th>\n",
       "      <td>4416</td>\n",
       "      <td>8</td>\n",
       "      <td>0</td>\n",
       "      <td>Phone</td>\n",
       "      <td>204</td>\n",
       "      <td>20</td>\n",
       "      <td>125</td>\n",
       "      <td>471</td>\n",
       "      <td>2 - Medium</td>\n",
       "      <td>2 - Medium</td>\n",
       "      <td>3 - Moderate</td>\n",
       "      <td>70</td>\n",
       "      <td>True</td>\n",
       "      <td>Do Not Notify</td>\n",
       "      <td>94</td>\n",
       "    </tr>\n",
       "    <tr>\n",
       "      <th>20</th>\n",
       "      <td>4491</td>\n",
       "      <td>180</td>\n",
       "      <td>81</td>\n",
       "      <td>Phone</td>\n",
       "      <td>204</td>\n",
       "      <td>9</td>\n",
       "      <td>97</td>\n",
       "      <td>450</td>\n",
       "      <td>2 - Medium</td>\n",
       "      <td>2 - Medium</td>\n",
       "      <td>3 - Moderate</td>\n",
       "      <td>25</td>\n",
       "      <td>True</td>\n",
       "      <td>Do Not Notify</td>\n",
       "      <td>125</td>\n",
       "    </tr>\n",
       "    <tr>\n",
       "      <th>24</th>\n",
       "      <td>3765</td>\n",
       "      <td>180</td>\n",
       "      <td>81</td>\n",
       "      <td>Phone</td>\n",
       "      <td>93</td>\n",
       "      <td>53</td>\n",
       "      <td>168</td>\n",
       "      <td>232</td>\n",
       "      <td>2 - Medium</td>\n",
       "      <td>2 - Medium</td>\n",
       "      <td>3 - Moderate</td>\n",
       "      <td>70</td>\n",
       "      <td>True</td>\n",
       "      <td>Do Not Notify</td>\n",
       "      <td>64</td>\n",
       "    </tr>\n",
       "  </tbody>\n",
       "</table>\n",
       "</div>"
      ],
      "text/plain": [
       "   caller_id opened_by sys_created_by contact_type location category  \\\n",
       "0       2403         8              6        Phone      143       55   \n",
       "4       2403       397            171        Phone      165       40   \n",
       "13      4416         8              0        Phone      204       20   \n",
       "20      4491       180             81        Phone      204        9   \n",
       "24      3765       180             81        Phone       93       53   \n",
       "\n",
       "   subcategory u_symptom      impact     urgency      priority  \\\n",
       "0          170        72  2 - Medium  2 - Medium  3 - Moderate   \n",
       "4          215       471  2 - Medium  2 - Medium  3 - Moderate   \n",
       "13         125       471  2 - Medium  2 - Medium  3 - Moderate   \n",
       "20          97       450  2 - Medium  2 - Medium  3 - Moderate   \n",
       "24         168       232  2 - Medium  2 - Medium  3 - Moderate   \n",
       "\n",
       "   assignment_group  knowledge         notify  Days_to_close  \n",
       "0                56       True  Do Not Notify             64  \n",
       "4                70       True  Do Not Notify             95  \n",
       "13               70       True  Do Not Notify             94  \n",
       "20               25       True  Do Not Notify            125  \n",
       "24               70       True  Do Not Notify             64  "
      ]
     },
     "execution_count": 32,
     "metadata": {},
     "output_type": "execute_result"
    }
   ],
   "source": [
    "df.head()"
   ]
  },
  {
   "cell_type": "code",
   "execution_count": 33,
   "id": "5e3b8c44",
   "metadata": {},
   "outputs": [
    {
     "data": {
      "text/plain": [
       "dtype('O')"
      ]
     },
     "execution_count": 33,
     "metadata": {},
     "output_type": "execute_result"
    }
   ],
   "source": [
    "df.caller_id.dtype"
   ]
  },
  {
   "cell_type": "code",
   "execution_count": null,
   "id": "c32f3e8e",
   "metadata": {},
   "outputs": [],
   "source": []
  },
  {
   "cell_type": "code",
   "execution_count": 34,
   "id": "bf323c02",
   "metadata": {},
   "outputs": [
    {
     "data": {
      "text/plain": [
       "(16393, 15)"
      ]
     },
     "execution_count": 34,
     "metadata": {},
     "output_type": "execute_result"
    }
   ],
   "source": [
    "df.shape"
   ]
  },
  {
   "cell_type": "code",
   "execution_count": 35,
   "id": "ae9f9dd0",
   "metadata": {},
   "outputs": [],
   "source": [
    "df=df.replace({'impact':{'2 - Medium':2, '1 - High':1, '3 - Low':3},\n",
    "               'urgency':{ '2 - Medium':2, '3 - Low':3, '1 - High':1},\n",
    "               'priority':{ '3 - Moderate':3, '2 - High':2, '4 - Low':4, '1 - Critical':1}\n",
    "    \n",
    "})"
   ]
  },
  {
   "cell_type": "code",
   "execution_count": 36,
   "id": "0f2f9fa6",
   "metadata": {},
   "outputs": [],
   "source": [
    "df=df.replace(['Phone', 'Email', 'Self service', 'Direct opening', 'IVR'],[1,2,3,4,5])"
   ]
  },
  {
   "cell_type": "code",
   "execution_count": 37,
   "id": "9f9bdc6f",
   "metadata": {},
   "outputs": [
    {
     "data": {
      "text/html": [
       "<div>\n",
       "<style scoped>\n",
       "    .dataframe tbody tr th:only-of-type {\n",
       "        vertical-align: middle;\n",
       "    }\n",
       "\n",
       "    .dataframe tbody tr th {\n",
       "        vertical-align: top;\n",
       "    }\n",
       "\n",
       "    .dataframe thead th {\n",
       "        text-align: right;\n",
       "    }\n",
       "</style>\n",
       "<table border=\"1\" class=\"dataframe\">\n",
       "  <thead>\n",
       "    <tr style=\"text-align: right;\">\n",
       "      <th></th>\n",
       "      <th>caller_id</th>\n",
       "      <th>opened_by</th>\n",
       "      <th>sys_created_by</th>\n",
       "      <th>contact_type</th>\n",
       "      <th>location</th>\n",
       "      <th>category</th>\n",
       "      <th>subcategory</th>\n",
       "      <th>u_symptom</th>\n",
       "      <th>impact</th>\n",
       "      <th>urgency</th>\n",
       "      <th>priority</th>\n",
       "      <th>assignment_group</th>\n",
       "      <th>knowledge</th>\n",
       "      <th>notify</th>\n",
       "      <th>Days_to_close</th>\n",
       "    </tr>\n",
       "  </thead>\n",
       "  <tbody>\n",
       "    <tr>\n",
       "      <th>0</th>\n",
       "      <td>2403</td>\n",
       "      <td>8</td>\n",
       "      <td>6</td>\n",
       "      <td>1</td>\n",
       "      <td>143</td>\n",
       "      <td>55</td>\n",
       "      <td>170</td>\n",
       "      <td>72</td>\n",
       "      <td>2</td>\n",
       "      <td>2</td>\n",
       "      <td>3</td>\n",
       "      <td>56</td>\n",
       "      <td>True</td>\n",
       "      <td>Do Not Notify</td>\n",
       "      <td>64</td>\n",
       "    </tr>\n",
       "    <tr>\n",
       "      <th>4</th>\n",
       "      <td>2403</td>\n",
       "      <td>397</td>\n",
       "      <td>171</td>\n",
       "      <td>1</td>\n",
       "      <td>165</td>\n",
       "      <td>40</td>\n",
       "      <td>215</td>\n",
       "      <td>471</td>\n",
       "      <td>2</td>\n",
       "      <td>2</td>\n",
       "      <td>3</td>\n",
       "      <td>70</td>\n",
       "      <td>True</td>\n",
       "      <td>Do Not Notify</td>\n",
       "      <td>95</td>\n",
       "    </tr>\n",
       "    <tr>\n",
       "      <th>13</th>\n",
       "      <td>4416</td>\n",
       "      <td>8</td>\n",
       "      <td>0</td>\n",
       "      <td>1</td>\n",
       "      <td>204</td>\n",
       "      <td>20</td>\n",
       "      <td>125</td>\n",
       "      <td>471</td>\n",
       "      <td>2</td>\n",
       "      <td>2</td>\n",
       "      <td>3</td>\n",
       "      <td>70</td>\n",
       "      <td>True</td>\n",
       "      <td>Do Not Notify</td>\n",
       "      <td>94</td>\n",
       "    </tr>\n",
       "    <tr>\n",
       "      <th>20</th>\n",
       "      <td>4491</td>\n",
       "      <td>180</td>\n",
       "      <td>81</td>\n",
       "      <td>1</td>\n",
       "      <td>204</td>\n",
       "      <td>9</td>\n",
       "      <td>97</td>\n",
       "      <td>450</td>\n",
       "      <td>2</td>\n",
       "      <td>2</td>\n",
       "      <td>3</td>\n",
       "      <td>25</td>\n",
       "      <td>True</td>\n",
       "      <td>Do Not Notify</td>\n",
       "      <td>125</td>\n",
       "    </tr>\n",
       "    <tr>\n",
       "      <th>24</th>\n",
       "      <td>3765</td>\n",
       "      <td>180</td>\n",
       "      <td>81</td>\n",
       "      <td>1</td>\n",
       "      <td>93</td>\n",
       "      <td>53</td>\n",
       "      <td>168</td>\n",
       "      <td>232</td>\n",
       "      <td>2</td>\n",
       "      <td>2</td>\n",
       "      <td>3</td>\n",
       "      <td>70</td>\n",
       "      <td>True</td>\n",
       "      <td>Do Not Notify</td>\n",
       "      <td>64</td>\n",
       "    </tr>\n",
       "  </tbody>\n",
       "</table>\n",
       "</div>"
      ],
      "text/plain": [
       "   caller_id opened_by sys_created_by  contact_type location category  \\\n",
       "0       2403         8              6             1      143       55   \n",
       "4       2403       397            171             1      165       40   \n",
       "13      4416         8              0             1      204       20   \n",
       "20      4491       180             81             1      204        9   \n",
       "24      3765       180             81             1       93       53   \n",
       "\n",
       "   subcategory u_symptom  impact  urgency  priority assignment_group  \\\n",
       "0          170        72       2        2         3               56   \n",
       "4          215       471       2        2         3               70   \n",
       "13         125       471       2        2         3               70   \n",
       "20          97       450       2        2         3               25   \n",
       "24         168       232       2        2         3               70   \n",
       "\n",
       "    knowledge         notify  Days_to_close  \n",
       "0        True  Do Not Notify             64  \n",
       "4        True  Do Not Notify             95  \n",
       "13       True  Do Not Notify             94  \n",
       "20       True  Do Not Notify            125  \n",
       "24       True  Do Not Notify             64  "
      ]
     },
     "execution_count": 37,
     "metadata": {},
     "output_type": "execute_result"
    }
   ],
   "source": [
    "df.head()"
   ]
  },
  {
   "cell_type": "code",
   "execution_count": 38,
   "id": "8b7c6e49",
   "metadata": {},
   "outputs": [
    {
     "data": {
      "text/plain": [
       "(16393, 15)"
      ]
     },
     "execution_count": 38,
     "metadata": {},
     "output_type": "execute_result"
    }
   ],
   "source": [
    "df.shape"
   ]
  },
  {
   "cell_type": "code",
   "execution_count": 39,
   "id": "b264e3e4",
   "metadata": {},
   "outputs": [
    {
     "data": {
      "text/html": [
       "<div>\n",
       "<style scoped>\n",
       "    .dataframe tbody tr th:only-of-type {\n",
       "        vertical-align: middle;\n",
       "    }\n",
       "\n",
       "    .dataframe tbody tr th {\n",
       "        vertical-align: top;\n",
       "    }\n",
       "\n",
       "    .dataframe thead th {\n",
       "        text-align: right;\n",
       "    }\n",
       "</style>\n",
       "<table border=\"1\" class=\"dataframe\">\n",
       "  <thead>\n",
       "    <tr style=\"text-align: right;\">\n",
       "      <th></th>\n",
       "      <th>caller_id</th>\n",
       "      <th>opened_by</th>\n",
       "      <th>sys_created_by</th>\n",
       "      <th>contact_type</th>\n",
       "      <th>location</th>\n",
       "      <th>category</th>\n",
       "      <th>subcategory</th>\n",
       "      <th>u_symptom</th>\n",
       "      <th>impact</th>\n",
       "      <th>urgency</th>\n",
       "      <th>priority</th>\n",
       "      <th>assignment_group</th>\n",
       "      <th>knowledge</th>\n",
       "      <th>notify</th>\n",
       "      <th>Days_to_close</th>\n",
       "    </tr>\n",
       "  </thead>\n",
       "  <tbody>\n",
       "    <tr>\n",
       "      <th>0</th>\n",
       "      <td>2403</td>\n",
       "      <td>8</td>\n",
       "      <td>6</td>\n",
       "      <td>1</td>\n",
       "      <td>143</td>\n",
       "      <td>55</td>\n",
       "      <td>170</td>\n",
       "      <td>72</td>\n",
       "      <td>2</td>\n",
       "      <td>2</td>\n",
       "      <td>3</td>\n",
       "      <td>56</td>\n",
       "      <td>1</td>\n",
       "      <td>1</td>\n",
       "      <td>64</td>\n",
       "    </tr>\n",
       "    <tr>\n",
       "      <th>4</th>\n",
       "      <td>2403</td>\n",
       "      <td>397</td>\n",
       "      <td>171</td>\n",
       "      <td>1</td>\n",
       "      <td>165</td>\n",
       "      <td>40</td>\n",
       "      <td>215</td>\n",
       "      <td>471</td>\n",
       "      <td>2</td>\n",
       "      <td>2</td>\n",
       "      <td>3</td>\n",
       "      <td>70</td>\n",
       "      <td>1</td>\n",
       "      <td>1</td>\n",
       "      <td>95</td>\n",
       "    </tr>\n",
       "    <tr>\n",
       "      <th>13</th>\n",
       "      <td>4416</td>\n",
       "      <td>8</td>\n",
       "      <td>0</td>\n",
       "      <td>1</td>\n",
       "      <td>204</td>\n",
       "      <td>20</td>\n",
       "      <td>125</td>\n",
       "      <td>471</td>\n",
       "      <td>2</td>\n",
       "      <td>2</td>\n",
       "      <td>3</td>\n",
       "      <td>70</td>\n",
       "      <td>1</td>\n",
       "      <td>1</td>\n",
       "      <td>94</td>\n",
       "    </tr>\n",
       "    <tr>\n",
       "      <th>20</th>\n",
       "      <td>4491</td>\n",
       "      <td>180</td>\n",
       "      <td>81</td>\n",
       "      <td>1</td>\n",
       "      <td>204</td>\n",
       "      <td>9</td>\n",
       "      <td>97</td>\n",
       "      <td>450</td>\n",
       "      <td>2</td>\n",
       "      <td>2</td>\n",
       "      <td>3</td>\n",
       "      <td>25</td>\n",
       "      <td>1</td>\n",
       "      <td>1</td>\n",
       "      <td>125</td>\n",
       "    </tr>\n",
       "    <tr>\n",
       "      <th>24</th>\n",
       "      <td>3765</td>\n",
       "      <td>180</td>\n",
       "      <td>81</td>\n",
       "      <td>1</td>\n",
       "      <td>93</td>\n",
       "      <td>53</td>\n",
       "      <td>168</td>\n",
       "      <td>232</td>\n",
       "      <td>2</td>\n",
       "      <td>2</td>\n",
       "      <td>3</td>\n",
       "      <td>70</td>\n",
       "      <td>1</td>\n",
       "      <td>1</td>\n",
       "      <td>64</td>\n",
       "    </tr>\n",
       "  </tbody>\n",
       "</table>\n",
       "</div>"
      ],
      "text/plain": [
       "   caller_id opened_by sys_created_by  contact_type location category  \\\n",
       "0       2403         8              6             1      143       55   \n",
       "4       2403       397            171             1      165       40   \n",
       "13      4416         8              0             1      204       20   \n",
       "20      4491       180             81             1      204        9   \n",
       "24      3765       180             81             1       93       53   \n",
       "\n",
       "   subcategory u_symptom  impact  urgency  priority assignment_group  \\\n",
       "0          170        72       2        2         3               56   \n",
       "4          215       471       2        2         3               70   \n",
       "13         125       471       2        2         3               70   \n",
       "20          97       450       2        2         3               25   \n",
       "24         168       232       2        2         3               70   \n",
       "\n",
       "    knowledge  notify  Days_to_close  \n",
       "0           1       1             64  \n",
       "4           1       1             95  \n",
       "13          1       1             94  \n",
       "20          1       1            125  \n",
       "24          1       1             64  "
      ]
     },
     "execution_count": 39,
     "metadata": {},
     "output_type": "execute_result"
    }
   ],
   "source": [
    "df.replace([True,False],[1,0],inplace=True)\n",
    "df.replace(['New'],[1],inplace=True)\n",
    "df.replace(['Do Not Notify','Send Email'],[1,0],inplace=True)\n",
    "df.head()"
   ]
  },
  {
   "cell_type": "code",
   "execution_count": null,
   "id": "c434c83b",
   "metadata": {},
   "outputs": [],
   "source": []
  },
  {
   "cell_type": "code",
   "execution_count": 40,
   "id": "1f1b7dd3",
   "metadata": {},
   "outputs": [],
   "source": [
    "cols = ['caller_id','opened_by','sys_created_by','location','category','subcategory','u_symptom','assignment_group']\n",
    "df[cols]=df[cols].apply(pd.to_numeric, errors='coerce')"
   ]
  },
  {
   "cell_type": "code",
   "execution_count": 41,
   "id": "6d3dfcd2",
   "metadata": {},
   "outputs": [
    {
     "data": {
      "text/plain": [
       "ModeResult(mode=array([4514], dtype=int64), count=array([127]))"
      ]
     },
     "execution_count": 41,
     "metadata": {},
     "output_type": "execute_result"
    }
   ],
   "source": [
    "from scipy import stats as stat\n",
    "stat.mode(df.caller_id)"
   ]
  },
  {
   "cell_type": "code",
   "execution_count": 42,
   "id": "d388fd50",
   "metadata": {},
   "outputs": [
    {
     "data": {
      "text/html": [
       "<div>\n",
       "<style scoped>\n",
       "    .dataframe tbody tr th:only-of-type {\n",
       "        vertical-align: middle;\n",
       "    }\n",
       "\n",
       "    .dataframe tbody tr th {\n",
       "        vertical-align: top;\n",
       "    }\n",
       "\n",
       "    .dataframe thead th {\n",
       "        text-align: right;\n",
       "    }\n",
       "</style>\n",
       "<table border=\"1\" class=\"dataframe\">\n",
       "  <thead>\n",
       "    <tr style=\"text-align: right;\">\n",
       "      <th></th>\n",
       "      <th>caller_id</th>\n",
       "      <th>opened_by</th>\n",
       "      <th>sys_created_by</th>\n",
       "      <th>contact_type</th>\n",
       "      <th>location</th>\n",
       "      <th>category</th>\n",
       "      <th>subcategory</th>\n",
       "      <th>u_symptom</th>\n",
       "      <th>impact</th>\n",
       "      <th>urgency</th>\n",
       "      <th>priority</th>\n",
       "      <th>assignment_group</th>\n",
       "      <th>knowledge</th>\n",
       "      <th>notify</th>\n",
       "      <th>Days_to_close</th>\n",
       "    </tr>\n",
       "  </thead>\n",
       "  <tbody>\n",
       "    <tr>\n",
       "      <th>count</th>\n",
       "      <td>16393.000000</td>\n",
       "      <td>16393.000000</td>\n",
       "      <td>16393.000000</td>\n",
       "      <td>16393.000000</td>\n",
       "      <td>16393.000000</td>\n",
       "      <td>16393.000000</td>\n",
       "      <td>16393.000000</td>\n",
       "      <td>16393.000000</td>\n",
       "      <td>16393.000000</td>\n",
       "      <td>16393.000000</td>\n",
       "      <td>16393.000000</td>\n",
       "      <td>16393.000000</td>\n",
       "      <td>16393.000000</td>\n",
       "      <td>16393.000000</td>\n",
       "      <td>16393.000000</td>\n",
       "    </tr>\n",
       "    <tr>\n",
       "      <th>mean</th>\n",
       "      <td>2784.080095</td>\n",
       "      <td>134.756481</td>\n",
       "      <td>40.223815</td>\n",
       "      <td>1.021839</td>\n",
       "      <td>138.137010</td>\n",
       "      <td>37.182700</td>\n",
       "      <td>160.077106</td>\n",
       "      <td>308.805039</td>\n",
       "      <td>2.010614</td>\n",
       "      <td>2.002684</td>\n",
       "      <td>2.992558</td>\n",
       "      <td>50.362838</td>\n",
       "      <td>0.150552</td>\n",
       "      <td>0.997804</td>\n",
       "      <td>82.108278</td>\n",
       "    </tr>\n",
       "    <tr>\n",
       "      <th>std</th>\n",
       "      <td>1638.068701</td>\n",
       "      <td>159.923560</td>\n",
       "      <td>62.180513</td>\n",
       "      <td>0.212497</td>\n",
       "      <td>56.350393</td>\n",
       "      <td>14.006752</td>\n",
       "      <td>69.437877</td>\n",
       "      <td>224.236258</td>\n",
       "      <td>0.191025</td>\n",
       "      <td>0.198192</td>\n",
       "      <td>0.264304</td>\n",
       "      <td>24.373842</td>\n",
       "      <td>0.357623</td>\n",
       "      <td>0.046812</td>\n",
       "      <td>77.985566</td>\n",
       "    </tr>\n",
       "    <tr>\n",
       "      <th>min</th>\n",
       "      <td>0.000000</td>\n",
       "      <td>0.000000</td>\n",
       "      <td>0.000000</td>\n",
       "      <td>1.000000</td>\n",
       "      <td>0.000000</td>\n",
       "      <td>0.000000</td>\n",
       "      <td>0.000000</td>\n",
       "      <td>0.000000</td>\n",
       "      <td>1.000000</td>\n",
       "      <td>1.000000</td>\n",
       "      <td>1.000000</td>\n",
       "      <td>0.000000</td>\n",
       "      <td>0.000000</td>\n",
       "      <td>0.000000</td>\n",
       "      <td>0.000000</td>\n",
       "    </tr>\n",
       "    <tr>\n",
       "      <th>25%</th>\n",
       "      <td>1334.000000</td>\n",
       "      <td>17.000000</td>\n",
       "      <td>0.000000</td>\n",
       "      <td>1.000000</td>\n",
       "      <td>93.000000</td>\n",
       "      <td>26.000000</td>\n",
       "      <td>130.000000</td>\n",
       "      <td>6.000000</td>\n",
       "      <td>2.000000</td>\n",
       "      <td>2.000000</td>\n",
       "      <td>3.000000</td>\n",
       "      <td>25.000000</td>\n",
       "      <td>0.000000</td>\n",
       "      <td>1.000000</td>\n",
       "      <td>9.000000</td>\n",
       "    </tr>\n",
       "    <tr>\n",
       "      <th>50%</th>\n",
       "      <td>2780.000000</td>\n",
       "      <td>55.000000</td>\n",
       "      <td>10.000000</td>\n",
       "      <td>1.000000</td>\n",
       "      <td>143.000000</td>\n",
       "      <td>40.000000</td>\n",
       "      <td>174.000000</td>\n",
       "      <td>473.000000</td>\n",
       "      <td>2.000000</td>\n",
       "      <td>2.000000</td>\n",
       "      <td>3.000000</td>\n",
       "      <td>67.000000</td>\n",
       "      <td>0.000000</td>\n",
       "      <td>1.000000</td>\n",
       "      <td>53.000000</td>\n",
       "    </tr>\n",
       "    <tr>\n",
       "      <th>75%</th>\n",
       "      <td>4185.000000</td>\n",
       "      <td>237.000000</td>\n",
       "      <td>52.000000</td>\n",
       "      <td>1.000000</td>\n",
       "      <td>204.000000</td>\n",
       "      <td>46.000000</td>\n",
       "      <td>197.000000</td>\n",
       "      <td>491.000000</td>\n",
       "      <td>2.000000</td>\n",
       "      <td>2.000000</td>\n",
       "      <td>3.000000</td>\n",
       "      <td>70.000000</td>\n",
       "      <td>0.000000</td>\n",
       "      <td>1.000000</td>\n",
       "      <td>153.000000</td>\n",
       "    </tr>\n",
       "    <tr>\n",
       "      <th>max</th>\n",
       "      <td>5642.000000</td>\n",
       "      <td>538.000000</td>\n",
       "      <td>233.000000</td>\n",
       "      <td>5.000000</td>\n",
       "      <td>249.000000</td>\n",
       "      <td>63.000000</td>\n",
       "      <td>305.000000</td>\n",
       "      <td>609.000000</td>\n",
       "      <td>3.000000</td>\n",
       "      <td>3.000000</td>\n",
       "      <td>4.000000</td>\n",
       "      <td>82.000000</td>\n",
       "      <td>1.000000</td>\n",
       "      <td>1.000000</td>\n",
       "      <td>603.000000</td>\n",
       "    </tr>\n",
       "  </tbody>\n",
       "</table>\n",
       "</div>"
      ],
      "text/plain": [
       "          caller_id     opened_by  sys_created_by  contact_type      location  \\\n",
       "count  16393.000000  16393.000000    16393.000000  16393.000000  16393.000000   \n",
       "mean    2784.080095    134.756481       40.223815      1.021839    138.137010   \n",
       "std     1638.068701    159.923560       62.180513      0.212497     56.350393   \n",
       "min        0.000000      0.000000        0.000000      1.000000      0.000000   \n",
       "25%     1334.000000     17.000000        0.000000      1.000000     93.000000   \n",
       "50%     2780.000000     55.000000       10.000000      1.000000    143.000000   \n",
       "75%     4185.000000    237.000000       52.000000      1.000000    204.000000   \n",
       "max     5642.000000    538.000000      233.000000      5.000000    249.000000   \n",
       "\n",
       "           category   subcategory     u_symptom        impact       urgency  \\\n",
       "count  16393.000000  16393.000000  16393.000000  16393.000000  16393.000000   \n",
       "mean      37.182700    160.077106    308.805039      2.010614      2.002684   \n",
       "std       14.006752     69.437877    224.236258      0.191025      0.198192   \n",
       "min        0.000000      0.000000      0.000000      1.000000      1.000000   \n",
       "25%       26.000000    130.000000      6.000000      2.000000      2.000000   \n",
       "50%       40.000000    174.000000    473.000000      2.000000      2.000000   \n",
       "75%       46.000000    197.000000    491.000000      2.000000      2.000000   \n",
       "max       63.000000    305.000000    609.000000      3.000000      3.000000   \n",
       "\n",
       "           priority  assignment_group     knowledge        notify  \\\n",
       "count  16393.000000      16393.000000  16393.000000  16393.000000   \n",
       "mean       2.992558         50.362838      0.150552      0.997804   \n",
       "std        0.264304         24.373842      0.357623      0.046812   \n",
       "min        1.000000          0.000000      0.000000      0.000000   \n",
       "25%        3.000000         25.000000      0.000000      1.000000   \n",
       "50%        3.000000         67.000000      0.000000      1.000000   \n",
       "75%        3.000000         70.000000      0.000000      1.000000   \n",
       "max        4.000000         82.000000      1.000000      1.000000   \n",
       "\n",
       "       Days_to_close  \n",
       "count   16393.000000  \n",
       "mean       82.108278  \n",
       "std        77.985566  \n",
       "min         0.000000  \n",
       "25%         9.000000  \n",
       "50%        53.000000  \n",
       "75%       153.000000  \n",
       "max       603.000000  "
      ]
     },
     "execution_count": 42,
     "metadata": {},
     "output_type": "execute_result"
    }
   ],
   "source": [
    "df.describe()"
   ]
  },
  {
   "cell_type": "code",
   "execution_count": 43,
   "id": "4e66d3ae",
   "metadata": {},
   "outputs": [],
   "source": [
    "df['caller_id']=df['caller_id'].fillna(4514)"
   ]
  },
  {
   "cell_type": "code",
   "execution_count": 44,
   "id": "e4037ed5",
   "metadata": {},
   "outputs": [
    {
     "data": {
      "text/html": [
       "<div>\n",
       "<style scoped>\n",
       "    .dataframe tbody tr th:only-of-type {\n",
       "        vertical-align: middle;\n",
       "    }\n",
       "\n",
       "    .dataframe tbody tr th {\n",
       "        vertical-align: top;\n",
       "    }\n",
       "\n",
       "    .dataframe thead th {\n",
       "        text-align: right;\n",
       "    }\n",
       "</style>\n",
       "<table border=\"1\" class=\"dataframe\">\n",
       "  <thead>\n",
       "    <tr style=\"text-align: right;\">\n",
       "      <th></th>\n",
       "      <th>caller_id</th>\n",
       "      <th>opened_by</th>\n",
       "      <th>sys_created_by</th>\n",
       "      <th>contact_type</th>\n",
       "      <th>location</th>\n",
       "      <th>category</th>\n",
       "      <th>subcategory</th>\n",
       "      <th>u_symptom</th>\n",
       "      <th>impact</th>\n",
       "      <th>urgency</th>\n",
       "      <th>priority</th>\n",
       "      <th>assignment_group</th>\n",
       "      <th>knowledge</th>\n",
       "      <th>notify</th>\n",
       "      <th>Days_to_close</th>\n",
       "    </tr>\n",
       "  </thead>\n",
       "  <tbody>\n",
       "    <tr>\n",
       "      <th>count</th>\n",
       "      <td>16393.000000</td>\n",
       "      <td>16393.000000</td>\n",
       "      <td>16393.000000</td>\n",
       "      <td>16393.000000</td>\n",
       "      <td>16393.000000</td>\n",
       "      <td>16393.000000</td>\n",
       "      <td>16393.000000</td>\n",
       "      <td>16393.000000</td>\n",
       "      <td>16393.000000</td>\n",
       "      <td>16393.000000</td>\n",
       "      <td>16393.000000</td>\n",
       "      <td>16393.000000</td>\n",
       "      <td>16393.000000</td>\n",
       "      <td>16393.000000</td>\n",
       "      <td>16393.000000</td>\n",
       "    </tr>\n",
       "    <tr>\n",
       "      <th>mean</th>\n",
       "      <td>2784.080095</td>\n",
       "      <td>134.756481</td>\n",
       "      <td>40.223815</td>\n",
       "      <td>1.021839</td>\n",
       "      <td>138.137010</td>\n",
       "      <td>37.182700</td>\n",
       "      <td>160.077106</td>\n",
       "      <td>308.805039</td>\n",
       "      <td>2.010614</td>\n",
       "      <td>2.002684</td>\n",
       "      <td>2.992558</td>\n",
       "      <td>50.362838</td>\n",
       "      <td>0.150552</td>\n",
       "      <td>0.997804</td>\n",
       "      <td>82.108278</td>\n",
       "    </tr>\n",
       "    <tr>\n",
       "      <th>std</th>\n",
       "      <td>1638.068701</td>\n",
       "      <td>159.923560</td>\n",
       "      <td>62.180513</td>\n",
       "      <td>0.212497</td>\n",
       "      <td>56.350393</td>\n",
       "      <td>14.006752</td>\n",
       "      <td>69.437877</td>\n",
       "      <td>224.236258</td>\n",
       "      <td>0.191025</td>\n",
       "      <td>0.198192</td>\n",
       "      <td>0.264304</td>\n",
       "      <td>24.373842</td>\n",
       "      <td>0.357623</td>\n",
       "      <td>0.046812</td>\n",
       "      <td>77.985566</td>\n",
       "    </tr>\n",
       "    <tr>\n",
       "      <th>min</th>\n",
       "      <td>0.000000</td>\n",
       "      <td>0.000000</td>\n",
       "      <td>0.000000</td>\n",
       "      <td>1.000000</td>\n",
       "      <td>0.000000</td>\n",
       "      <td>0.000000</td>\n",
       "      <td>0.000000</td>\n",
       "      <td>0.000000</td>\n",
       "      <td>1.000000</td>\n",
       "      <td>1.000000</td>\n",
       "      <td>1.000000</td>\n",
       "      <td>0.000000</td>\n",
       "      <td>0.000000</td>\n",
       "      <td>0.000000</td>\n",
       "      <td>0.000000</td>\n",
       "    </tr>\n",
       "    <tr>\n",
       "      <th>25%</th>\n",
       "      <td>1334.000000</td>\n",
       "      <td>17.000000</td>\n",
       "      <td>0.000000</td>\n",
       "      <td>1.000000</td>\n",
       "      <td>93.000000</td>\n",
       "      <td>26.000000</td>\n",
       "      <td>130.000000</td>\n",
       "      <td>6.000000</td>\n",
       "      <td>2.000000</td>\n",
       "      <td>2.000000</td>\n",
       "      <td>3.000000</td>\n",
       "      <td>25.000000</td>\n",
       "      <td>0.000000</td>\n",
       "      <td>1.000000</td>\n",
       "      <td>9.000000</td>\n",
       "    </tr>\n",
       "    <tr>\n",
       "      <th>50%</th>\n",
       "      <td>2780.000000</td>\n",
       "      <td>55.000000</td>\n",
       "      <td>10.000000</td>\n",
       "      <td>1.000000</td>\n",
       "      <td>143.000000</td>\n",
       "      <td>40.000000</td>\n",
       "      <td>174.000000</td>\n",
       "      <td>473.000000</td>\n",
       "      <td>2.000000</td>\n",
       "      <td>2.000000</td>\n",
       "      <td>3.000000</td>\n",
       "      <td>67.000000</td>\n",
       "      <td>0.000000</td>\n",
       "      <td>1.000000</td>\n",
       "      <td>53.000000</td>\n",
       "    </tr>\n",
       "    <tr>\n",
       "      <th>75%</th>\n",
       "      <td>4185.000000</td>\n",
       "      <td>237.000000</td>\n",
       "      <td>52.000000</td>\n",
       "      <td>1.000000</td>\n",
       "      <td>204.000000</td>\n",
       "      <td>46.000000</td>\n",
       "      <td>197.000000</td>\n",
       "      <td>491.000000</td>\n",
       "      <td>2.000000</td>\n",
       "      <td>2.000000</td>\n",
       "      <td>3.000000</td>\n",
       "      <td>70.000000</td>\n",
       "      <td>0.000000</td>\n",
       "      <td>1.000000</td>\n",
       "      <td>153.000000</td>\n",
       "    </tr>\n",
       "    <tr>\n",
       "      <th>max</th>\n",
       "      <td>5642.000000</td>\n",
       "      <td>538.000000</td>\n",
       "      <td>233.000000</td>\n",
       "      <td>5.000000</td>\n",
       "      <td>249.000000</td>\n",
       "      <td>63.000000</td>\n",
       "      <td>305.000000</td>\n",
       "      <td>609.000000</td>\n",
       "      <td>3.000000</td>\n",
       "      <td>3.000000</td>\n",
       "      <td>4.000000</td>\n",
       "      <td>82.000000</td>\n",
       "      <td>1.000000</td>\n",
       "      <td>1.000000</td>\n",
       "      <td>603.000000</td>\n",
       "    </tr>\n",
       "  </tbody>\n",
       "</table>\n",
       "</div>"
      ],
      "text/plain": [
       "          caller_id     opened_by  sys_created_by  contact_type      location  \\\n",
       "count  16393.000000  16393.000000    16393.000000  16393.000000  16393.000000   \n",
       "mean    2784.080095    134.756481       40.223815      1.021839    138.137010   \n",
       "std     1638.068701    159.923560       62.180513      0.212497     56.350393   \n",
       "min        0.000000      0.000000        0.000000      1.000000      0.000000   \n",
       "25%     1334.000000     17.000000        0.000000      1.000000     93.000000   \n",
       "50%     2780.000000     55.000000       10.000000      1.000000    143.000000   \n",
       "75%     4185.000000    237.000000       52.000000      1.000000    204.000000   \n",
       "max     5642.000000    538.000000      233.000000      5.000000    249.000000   \n",
       "\n",
       "           category   subcategory     u_symptom        impact       urgency  \\\n",
       "count  16393.000000  16393.000000  16393.000000  16393.000000  16393.000000   \n",
       "mean      37.182700    160.077106    308.805039      2.010614      2.002684   \n",
       "std       14.006752     69.437877    224.236258      0.191025      0.198192   \n",
       "min        0.000000      0.000000      0.000000      1.000000      1.000000   \n",
       "25%       26.000000    130.000000      6.000000      2.000000      2.000000   \n",
       "50%       40.000000    174.000000    473.000000      2.000000      2.000000   \n",
       "75%       46.000000    197.000000    491.000000      2.000000      2.000000   \n",
       "max       63.000000    305.000000    609.000000      3.000000      3.000000   \n",
       "\n",
       "           priority  assignment_group     knowledge        notify  \\\n",
       "count  16393.000000      16393.000000  16393.000000  16393.000000   \n",
       "mean       2.992558         50.362838      0.150552      0.997804   \n",
       "std        0.264304         24.373842      0.357623      0.046812   \n",
       "min        1.000000          0.000000      0.000000      0.000000   \n",
       "25%        3.000000         25.000000      0.000000      1.000000   \n",
       "50%        3.000000         67.000000      0.000000      1.000000   \n",
       "75%        3.000000         70.000000      0.000000      1.000000   \n",
       "max        4.000000         82.000000      1.000000      1.000000   \n",
       "\n",
       "       Days_to_close  \n",
       "count   16393.000000  \n",
       "mean       82.108278  \n",
       "std        77.985566  \n",
       "min         0.000000  \n",
       "25%         9.000000  \n",
       "50%        53.000000  \n",
       "75%       153.000000  \n",
       "max       603.000000  "
      ]
     },
     "execution_count": 44,
     "metadata": {},
     "output_type": "execute_result"
    }
   ],
   "source": [
    "df.describe()"
   ]
  },
  {
   "cell_type": "code",
   "execution_count": 45,
   "id": "04d0d331",
   "metadata": {},
   "outputs": [],
   "source": [
    "df.to_csv('features.csv')"
   ]
  },
  {
   "cell_type": "code",
   "execution_count": 46,
   "id": "447b141f",
   "metadata": {},
   "outputs": [
    {
     "data": {
      "text/plain": [
       "(16393, 15)"
      ]
     },
     "execution_count": 46,
     "metadata": {},
     "output_type": "execute_result"
    }
   ],
   "source": [
    "df.shape"
   ]
  },
  {
   "cell_type": "code",
   "execution_count": 47,
   "id": "3969ba89",
   "metadata": {},
   "outputs": [],
   "source": [
    "df.drop(['u_symptom','assignment_group','category','caller_id','sys_created_by','contact_type','urgency','location'],axis=1,inplace=True)"
   ]
  },
  {
   "cell_type": "code",
   "execution_count": 48,
   "id": "ac58caeb",
   "metadata": {},
   "outputs": [
    {
     "data": {
      "text/plain": [
       "Index(['opened_by', 'subcategory', 'impact', 'priority', 'knowledge', 'notify',\n",
       "       'Days_to_close'],\n",
       "      dtype='object')"
      ]
     },
     "execution_count": 48,
     "metadata": {},
     "output_type": "execute_result"
    }
   ],
   "source": [
    "df.columns"
   ]
  },
  {
   "cell_type": "code",
   "execution_count": null,
   "id": "a23c0389",
   "metadata": {},
   "outputs": [],
   "source": []
  },
  {
   "cell_type": "code",
   "execution_count": 49,
   "id": "3518268e",
   "metadata": {},
   "outputs": [],
   "source": [
    "y=df['Days_to_close']\n",
    "x=df.drop('Days_to_close',axis = 1)"
   ]
  },
  {
   "cell_type": "code",
   "execution_count": 50,
   "id": "5b9cb12d",
   "metadata": {},
   "outputs": [],
   "source": [
    "#from statsmodels.stats.outliers_influence import variance_inflation_factor\n",
    "# VIF dataframe\n",
    "#vif_data = pd.DataFrame()\n",
    "#vif_data[\"feature\"] = x.columns# calculating VIF for each feature\n",
    "#vif_data[\"VIF\"] = [variance_inflation_factor(x.values, i)\n",
    "#for i in range(len(x.columns))]\n",
    "#print(vif_data)"
   ]
  },
  {
   "cell_type": "code",
   "execution_count": 51,
   "id": "1a451a82",
   "metadata": {},
   "outputs": [],
   "source": [
    "# get the locations\n",
    "x = df.iloc[:, :-1]\n",
    "y = df.iloc[:, -1]"
   ]
  },
  {
   "cell_type": "code",
   "execution_count": 52,
   "id": "6d7fe22a",
   "metadata": {},
   "outputs": [],
   "source": [
    "#convert dataframes to numpay array\n",
    "##x=x.to_numpy()\n",
    "##y=y.to_numpy()"
   ]
  },
  {
   "cell_type": "code",
   "execution_count": null,
   "id": "1923d2e7",
   "metadata": {},
   "outputs": [],
   "source": []
  },
  {
   "cell_type": "code",
   "execution_count": 53,
   "id": "ee2f0baf",
   "metadata": {},
   "outputs": [],
   "source": [
    "from sklearn.model_selection import train_test_split\n",
    "\n",
    "X_train, X_test, y_train, y_test = train_test_split(x, y, test_size = 0.2, random_state=42)"
   ]
  },
  {
   "cell_type": "code",
   "execution_count": null,
   "id": "c0100628",
   "metadata": {},
   "outputs": [],
   "source": []
  },
  {
   "cell_type": "code",
   "execution_count": 54,
   "id": "4f37d1f8",
   "metadata": {},
   "outputs": [],
   "source": [
    "##from sklearn.ensemble import ExtraTreesClassifier\n",
    "##feature=ExtraTreesClassifier()"
   ]
  },
  {
   "cell_type": "code",
   "execution_count": 55,
   "id": "9e1a3ecb",
   "metadata": {},
   "outputs": [],
   "source": [
    "# Types of colors\n",
    "#color_types = ['#78C850','#F08030','#6890F0','#A8B820','#A8A878','#A040A0','#F8D030',\n",
    "#'#E0C068','#EE99AC','#C03028','#F85888','#B8A038','#705898','#98D8D8','#7038F8']\n",
    "\n",
    "\n",
    "\n",
    "\n",
    "## plot graph of feature importance for better visualization\n",
    "#feat_imp=pd.Series(feature.feature_importances_,index=X.columns)\n",
    "#feat_imp.nlargest(18).plot(kind='barh',color=color_types)\n",
    "#plt.show()"
   ]
  },
  {
   "cell_type": "code",
   "execution_count": 56,
   "id": "cdea4547",
   "metadata": {},
   "outputs": [],
   "source": [
    "from sklearn.linear_model import LinearRegression\n",
    "from sklearn.ensemble import RandomForestRegressor\n",
    "from sklearn.tree import DecisionTreeRegressor\n",
    "from sklearn import metrics"
   ]
  },
  {
   "cell_type": "code",
   "execution_count": 57,
   "id": "8bc5b98f",
   "metadata": {},
   "outputs": [],
   "source": [
    "rf = RandomForestRegressor()"
   ]
  },
  {
   "cell_type": "code",
   "execution_count": 58,
   "id": "1948a69e",
   "metadata": {},
   "outputs": [
    {
     "name": "stdout",
     "output_type": "stream",
     "text": [
      "64.62478519890838\n"
     ]
    }
   ],
   "source": [
    "rf_reg_model=rf.fit(X_train,y_train)\n",
    "y_pred=rf_reg_model.predict(X_test)\n",
    "print(metrics.mean_absolute_error(y_pred,y_test))"
   ]
  },
  {
   "cell_type": "code",
   "execution_count": 59,
   "id": "894e2833",
   "metadata": {},
   "outputs": [
    {
     "name": "stdout",
     "output_type": "stream",
     "text": [
      "67.34266544678256\n"
     ]
    }
   ],
   "source": [
    "from sklearn.neighbors import KNeighborsRegressor\n",
    "model_knn = KNeighborsRegressor()\n",
    "knn_reg_model=model_knn.fit(X_train,y_train)\n",
    "y_pred_knn=knn_reg_model.predict(X_test)\n",
    "print(metrics.mean_absolute_error(y_pred_knn,y_test))"
   ]
  },
  {
   "cell_type": "code",
   "execution_count": 60,
   "id": "5626b7b6",
   "metadata": {},
   "outputs": [
    {
     "name": "stderr",
     "output_type": "stream",
     "text": [
      "C:\\Users\\Chiranjit\\anaconda3\\envs\\incident\\lib\\site-packages\\xgboost\\compat.py:36: FutureWarning: pandas.Int64Index is deprecated and will be removed from pandas in a future version. Use pandas.Index with the appropriate dtype instead.\n",
      "  from pandas import MultiIndex, Int64Index\n",
      "C:\\Users\\Chiranjit\\anaconda3\\envs\\incident\\lib\\site-packages\\xgboost\\data.py:262: FutureWarning: pandas.Int64Index is deprecated and will be removed from pandas in a future version. Use pandas.Index with the appropriate dtype instead.\n",
      "  elif isinstance(data.columns, (pd.Int64Index, pd.RangeIndex)):\n"
     ]
    },
    {
     "name": "stdout",
     "output_type": "stream",
     "text": [
      "64.3101212491928\n"
     ]
    }
   ],
   "source": [
    "from xgboost import XGBRegressor\n",
    "regressor = XGBRegressor(random_state=42)\n",
    "model = regressor.fit(X_train, y_train)\n",
    "y_pred = model.predict(X_test)\n",
    "\n",
    "print(metrics.mean_absolute_error(y_pred,y_test))\n",
    "\n",
    "\n"
   ]
  },
  {
   "cell_type": "code",
   "execution_count": null,
   "id": "265386be",
   "metadata": {},
   "outputs": [],
   "source": []
  },
  {
   "cell_type": "code",
   "execution_count": 61,
   "id": "ba68d72a",
   "metadata": {},
   "outputs": [
    {
     "name": "stdout",
     "output_type": "stream",
     "text": [
      "67.27502127001159\n"
     ]
    }
   ],
   "source": [
    "from sklearn.linear_model import LinearRegression\n",
    "lr = LinearRegression()\n",
    "lr_model=lr.fit(X_train,y_train)\n",
    "y_pred=lr_model.predict(X_test)\n",
    "print(metrics.mean_absolute_error(y_pred,y_test))"
   ]
  },
  {
   "cell_type": "code",
   "execution_count": null,
   "id": "464cc65d",
   "metadata": {},
   "outputs": [],
   "source": []
  },
  {
   "cell_type": "code",
   "execution_count": null,
   "id": "fd2c8e0a",
   "metadata": {},
   "outputs": [],
   "source": []
  },
  {
   "cell_type": "code",
   "execution_count": 62,
   "id": "0b9e0cd6",
   "metadata": {},
   "outputs": [],
   "source": [
    "## laso regression"
   ]
  },
  {
   "cell_type": "code",
   "execution_count": 63,
   "id": "1a576e53",
   "metadata": {},
   "outputs": [],
   "source": [
    "from sklearn.linear_model import Lasso"
   ]
  },
  {
   "cell_type": "code",
   "execution_count": 64,
   "id": "c1e5950c",
   "metadata": {},
   "outputs": [
    {
     "name": "stderr",
     "output_type": "stream",
     "text": [
      "C:\\Users\\Chiranjit\\anaconda3\\envs\\incident\\lib\\site-packages\\xgboost\\data.py:262: FutureWarning: pandas.Int64Index is deprecated and will be removed from pandas in a future version. Use pandas.Index with the appropriate dtype instead.\n",
      "  elif isinstance(data.columns, (pd.Int64Index, pd.RangeIndex)):\n"
     ]
    }
   ],
   "source": [
    "model1 = Lasso()\n",
    "##Fitting the model\n",
    "model1.fit(X_train,y_train)\n",
    "y_pred1 = model.predict(X_test)"
   ]
  },
  {
   "cell_type": "code",
   "execution_count": 65,
   "id": "71ce9785",
   "metadata": {},
   "outputs": [
    {
     "name": "stdout",
     "output_type": "stream",
     "text": [
      "64.3101212491928\n"
     ]
    }
   ],
   "source": [
    "print(metrics.mean_absolute_error(y_pred1,y_test))"
   ]
  },
  {
   "cell_type": "code",
   "execution_count": 66,
   "id": "2ca9ba04",
   "metadata": {},
   "outputs": [
    {
     "name": "stdout",
     "output_type": "stream",
     "text": [
      "0.023895601943459188\n"
     ]
    }
   ],
   "source": [
    "print(metrics.r2_score(y_test,y_pred))"
   ]
  },
  {
   "cell_type": "code",
   "execution_count": 67,
   "id": "f9fdee12",
   "metadata": {},
   "outputs": [],
   "source": [
    "from sklearn.linear_model import Ridge\n",
    "from sklearn.linear_model import RidgeCV\n",
    "from sklearn.model_selection import RepeatedKFold"
   ]
  },
  {
   "cell_type": "code",
   "execution_count": 68,
   "id": "b2f3a73a",
   "metadata": {},
   "outputs": [],
   "source": [
    "\n",
    "from numpy import *\n",
    "#define cross-validation method to evaluate model\n",
    "cv = RepeatedKFold(n_splits=10, n_repeats=3, random_state=1)\n",
    "\n",
    "#define model\n",
    "model1 = RidgeCV(alphas= arange(100,10000,10), cv=cv, scoring='neg_mean_absolute_error')"
   ]
  },
  {
   "cell_type": "code",
   "execution_count": 69,
   "id": "cacbb057",
   "metadata": {},
   "outputs": [
    {
     "data": {
      "text/html": [
       "<style>#sk-container-id-1 {color: black;background-color: white;}#sk-container-id-1 pre{padding: 0;}#sk-container-id-1 div.sk-toggleable {background-color: white;}#sk-container-id-1 label.sk-toggleable__label {cursor: pointer;display: block;width: 100%;margin-bottom: 0;padding: 0.3em;box-sizing: border-box;text-align: center;}#sk-container-id-1 label.sk-toggleable__label-arrow:before {content: \"▸\";float: left;margin-right: 0.25em;color: #696969;}#sk-container-id-1 label.sk-toggleable__label-arrow:hover:before {color: black;}#sk-container-id-1 div.sk-estimator:hover label.sk-toggleable__label-arrow:before {color: black;}#sk-container-id-1 div.sk-toggleable__content {max-height: 0;max-width: 0;overflow: hidden;text-align: left;background-color: #f0f8ff;}#sk-container-id-1 div.sk-toggleable__content pre {margin: 0.2em;color: black;border-radius: 0.25em;background-color: #f0f8ff;}#sk-container-id-1 input.sk-toggleable__control:checked~div.sk-toggleable__content {max-height: 200px;max-width: 100%;overflow: auto;}#sk-container-id-1 input.sk-toggleable__control:checked~label.sk-toggleable__label-arrow:before {content: \"▾\";}#sk-container-id-1 div.sk-estimator input.sk-toggleable__control:checked~label.sk-toggleable__label {background-color: #d4ebff;}#sk-container-id-1 div.sk-label input.sk-toggleable__control:checked~label.sk-toggleable__label {background-color: #d4ebff;}#sk-container-id-1 input.sk-hidden--visually {border: 0;clip: rect(1px 1px 1px 1px);clip: rect(1px, 1px, 1px, 1px);height: 1px;margin: -1px;overflow: hidden;padding: 0;position: absolute;width: 1px;}#sk-container-id-1 div.sk-estimator {font-family: monospace;background-color: #f0f8ff;border: 1px dotted black;border-radius: 0.25em;box-sizing: border-box;margin-bottom: 0.5em;}#sk-container-id-1 div.sk-estimator:hover {background-color: #d4ebff;}#sk-container-id-1 div.sk-parallel-item::after {content: \"\";width: 100%;border-bottom: 1px solid gray;flex-grow: 1;}#sk-container-id-1 div.sk-label:hover label.sk-toggleable__label {background-color: #d4ebff;}#sk-container-id-1 div.sk-serial::before {content: \"\";position: absolute;border-left: 1px solid gray;box-sizing: border-box;top: 0;bottom: 0;left: 50%;z-index: 0;}#sk-container-id-1 div.sk-serial {display: flex;flex-direction: column;align-items: center;background-color: white;padding-right: 0.2em;padding-left: 0.2em;position: relative;}#sk-container-id-1 div.sk-item {position: relative;z-index: 1;}#sk-container-id-1 div.sk-parallel {display: flex;align-items: stretch;justify-content: center;background-color: white;position: relative;}#sk-container-id-1 div.sk-item::before, #sk-container-id-1 div.sk-parallel-item::before {content: \"\";position: absolute;border-left: 1px solid gray;box-sizing: border-box;top: 0;bottom: 0;left: 50%;z-index: -1;}#sk-container-id-1 div.sk-parallel-item {display: flex;flex-direction: column;z-index: 1;position: relative;background-color: white;}#sk-container-id-1 div.sk-parallel-item:first-child::after {align-self: flex-end;width: 50%;}#sk-container-id-1 div.sk-parallel-item:last-child::after {align-self: flex-start;width: 50%;}#sk-container-id-1 div.sk-parallel-item:only-child::after {width: 0;}#sk-container-id-1 div.sk-dashed-wrapped {border: 1px dashed gray;margin: 0 0.4em 0.5em 0.4em;box-sizing: border-box;padding-bottom: 0.4em;background-color: white;}#sk-container-id-1 div.sk-label label {font-family: monospace;font-weight: bold;display: inline-block;line-height: 1.2em;}#sk-container-id-1 div.sk-label-container {text-align: center;}#sk-container-id-1 div.sk-container {/* jupyter's `normalize.less` sets `[hidden] { display: none; }` but bootstrap.min.css set `[hidden] { display: none !important; }` so we also need the `!important` here to be able to override the default hidden behavior on the sphinx rendered scikit-learn.org. See: https://github.com/scikit-learn/scikit-learn/issues/21755 */display: inline-block !important;position: relative;}#sk-container-id-1 div.sk-text-repr-fallback {display: none;}</style><div id=\"sk-container-id-1\" class=\"sk-top-container\"><div class=\"sk-text-repr-fallback\"><pre>RidgeCV(alphas=array([ 100,  110,  120,  130,  140,  150,  160,  170,  180,  190,  200,\n",
       "        210,  220,  230,  240,  250,  260,  270,  280,  290,  300,  310,\n",
       "        320,  330,  340,  350,  360,  370,  380,  390,  400,  410,  420,\n",
       "        430,  440,  450,  460,  470,  480,  490,  500,  510,  520,  530,\n",
       "        540,  550,  560,  570,  580,  590,  600,  610,  620,  630,  640,\n",
       "        650,  660,  670,  680,  690,  700,  710,  720,  730,  740,  750,\n",
       "        760,  770,  780,  790,  800,  810,  820,  830,  840,  850,  860,\n",
       "        870,  880,  890,  900,  910,...\n",
       "       9450, 9460, 9470, 9480, 9490, 9500, 9510, 9520, 9530, 9540, 9550,\n",
       "       9560, 9570, 9580, 9590, 9600, 9610, 9620, 9630, 9640, 9650, 9660,\n",
       "       9670, 9680, 9690, 9700, 9710, 9720, 9730, 9740, 9750, 9760, 9770,\n",
       "       9780, 9790, 9800, 9810, 9820, 9830, 9840, 9850, 9860, 9870, 9880,\n",
       "       9890, 9900, 9910, 9920, 9930, 9940, 9950, 9960, 9970, 9980, 9990]),\n",
       "        cv=RepeatedKFold(n_repeats=3, n_splits=10, random_state=1),\n",
       "        scoring=&#x27;neg_mean_absolute_error&#x27;)</pre><b>In a Jupyter environment, please rerun this cell to show the HTML representation or trust the notebook. <br />On GitHub, the HTML representation is unable to render, please try loading this page with nbviewer.org.</b></div><div class=\"sk-container\" hidden><div class=\"sk-item\"><div class=\"sk-estimator sk-toggleable\"><input class=\"sk-toggleable__control sk-hidden--visually\" id=\"sk-estimator-id-1\" type=\"checkbox\" checked><label for=\"sk-estimator-id-1\" class=\"sk-toggleable__label sk-toggleable__label-arrow\">RidgeCV</label><div class=\"sk-toggleable__content\"><pre>RidgeCV(alphas=array([ 100,  110,  120,  130,  140,  150,  160,  170,  180,  190,  200,\n",
       "        210,  220,  230,  240,  250,  260,  270,  280,  290,  300,  310,\n",
       "        320,  330,  340,  350,  360,  370,  380,  390,  400,  410,  420,\n",
       "        430,  440,  450,  460,  470,  480,  490,  500,  510,  520,  530,\n",
       "        540,  550,  560,  570,  580,  590,  600,  610,  620,  630,  640,\n",
       "        650,  660,  670,  680,  690,  700,  710,  720,  730,  740,  750,\n",
       "        760,  770,  780,  790,  800,  810,  820,  830,  840,  850,  860,\n",
       "        870,  880,  890,  900,  910,...\n",
       "       9450, 9460, 9470, 9480, 9490, 9500, 9510, 9520, 9530, 9540, 9550,\n",
       "       9560, 9570, 9580, 9590, 9600, 9610, 9620, 9630, 9640, 9650, 9660,\n",
       "       9670, 9680, 9690, 9700, 9710, 9720, 9730, 9740, 9750, 9760, 9770,\n",
       "       9780, 9790, 9800, 9810, 9820, 9830, 9840, 9850, 9860, 9870, 9880,\n",
       "       9890, 9900, 9910, 9920, 9930, 9940, 9950, 9960, 9970, 9980, 9990]),\n",
       "        cv=RepeatedKFold(n_repeats=3, n_splits=10, random_state=1),\n",
       "        scoring=&#x27;neg_mean_absolute_error&#x27;)</pre></div></div></div></div></div>"
      ],
      "text/plain": [
       "RidgeCV(alphas=array([ 100,  110,  120,  130,  140,  150,  160,  170,  180,  190,  200,\n",
       "        210,  220,  230,  240,  250,  260,  270,  280,  290,  300,  310,\n",
       "        320,  330,  340,  350,  360,  370,  380,  390,  400,  410,  420,\n",
       "        430,  440,  450,  460,  470,  480,  490,  500,  510,  520,  530,\n",
       "        540,  550,  560,  570,  580,  590,  600,  610,  620,  630,  640,\n",
       "        650,  660,  670,  680,  690,  700,  710,  720,  730,  740,  750,\n",
       "        760,  770,  780,  790,  800,  810,  820,  830,  840,  850,  860,\n",
       "        870,  880,  890,  900,  910,...\n",
       "       9450, 9460, 9470, 9480, 9490, 9500, 9510, 9520, 9530, 9540, 9550,\n",
       "       9560, 9570, 9580, 9590, 9600, 9610, 9620, 9630, 9640, 9650, 9660,\n",
       "       9670, 9680, 9690, 9700, 9710, 9720, 9730, 9740, 9750, 9760, 9770,\n",
       "       9780, 9790, 9800, 9810, 9820, 9830, 9840, 9850, 9860, 9870, 9880,\n",
       "       9890, 9900, 9910, 9920, 9930, 9940, 9950, 9960, 9970, 9980, 9990]),\n",
       "        cv=RepeatedKFold(n_repeats=3, n_splits=10, random_state=1),\n",
       "        scoring='neg_mean_absolute_error')"
      ]
     },
     "execution_count": 69,
     "metadata": {},
     "output_type": "execute_result"
    }
   ],
   "source": [
    "model1.fit(X_train, y_train)"
   ]
  },
  {
   "cell_type": "code",
   "execution_count": 70,
   "id": "255d55d2",
   "metadata": {},
   "outputs": [
    {
     "name": "stdout",
     "output_type": "stream",
     "text": [
      "100\n"
     ]
    }
   ],
   "source": [
    "#display lambda that produced the lowest test MAE\n",
    "print(model1.alpha_)"
   ]
  },
  {
   "cell_type": "code",
   "execution_count": 71,
   "id": "5f86761c",
   "metadata": {},
   "outputs": [],
   "source": [
    "y_ridge = model1.predict(X_test)"
   ]
  },
  {
   "cell_type": "code",
   "execution_count": 72,
   "id": "dc47a627",
   "metadata": {},
   "outputs": [
    {
     "name": "stdout",
     "output_type": "stream",
     "text": [
      "67.33023265699393\n"
     ]
    }
   ],
   "source": [
    "print(metrics.mean_absolute_error(y_ridge,y_test))"
   ]
  },
  {
   "cell_type": "code",
   "execution_count": null,
   "id": "5d69be21",
   "metadata": {},
   "outputs": [],
   "source": []
  }
 ],
 "metadata": {
  "kernelspec": {
   "display_name": "Python 3 (ipykernel)",
   "language": "python",
   "name": "python3"
  },
  "language_info": {
   "codemirror_mode": {
    "name": "ipython",
    "version": 3
   },
   "file_extension": ".py",
   "mimetype": "text/x-python",
   "name": "python",
   "nbconvert_exporter": "python",
   "pygments_lexer": "ipython3",
   "version": "3.9.12"
  }
 },
 "nbformat": 4,
 "nbformat_minor": 5
}
